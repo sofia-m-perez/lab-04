{
 "cells": [
  {
   "cell_type": "code",
   "execution_count": 38,
   "metadata": {},
   "outputs": [
    {
     "name": "stdout",
     "output_type": "stream",
     "text": [
      "\n",
      " Lista con String: \n",
      " ['P', 'y', 't', 'h', 'o', 'n', ' ', 'e', 's', ' ', 'u', 'n', ' ', 'l', 'e', 'n', 'g', 'u', 'a', 'j', 'e', ' ', 'd', 'e', ' ', 'p', 'r', 'o', 'g', 'r', 'a', 'm', 'a', 'c', 'i', 'o', 'n']\n",
      "La frase: \"a\"\n",
      "Tiene 6 palabras y 38 caracteres\n",
      "\n",
      " Lista con String: \n",
      " ['M', 'e', ' ', 'g', 'u', 's', 't', 'a', ' ', 'r', 'e', 's', 'o', 'l', 'v', 'e', 'r', ' ', 'p', 'r', 'o', 'b', 'l', 'e', 'm', 'a', 's', ' ', 'c', 'o', 'n', ' ', 'c', 'ó', 'd', 'i', 'g', 'o']\n",
      "la frase: \"b\"\n",
      "Tiene 6 palabras y 38 caracteres\n",
      "\n",
      " Lista con String: \n",
      " ['L', 'a', 's', ' ', 'l', 'i', 's', 't', 'a', 's', ' ', 'y', ' ', 'l', 'o', 's', ' ', 'b', 'u', 'c', 'l', 'e', 's', ' ', 's', 'o', 'n', ' ', 'm', 'u', 'y', ' ', 'ú', 't', 'i', 'l', 'e', 's']\n",
      "la frase: \"b\"\n",
      "tiene 6 palabras y 38 caracteres\n"
     ]
    }
   ],
   "source": [
    "#creo una lista\n",
    "a = list(\"Python es un lenguaje de programacion\")\n",
    "print(\"\\n Lista con String: \\n\", a)\n",
    " #cuento caracteres y palabras\n",
    "def contar_palabras_y_caracteres(frase):\n",
    "    palabras = frase.split()  \n",
    "    num_palabras = len(palabras)  \n",
    "    num_caracteres = len(frase)  \n",
    "    \n",
    "    # resultado\n",
    "    print(f\"La frase: \\\"{frase}\\\"\")\n",
    "    print(f\"Tiene {6} palabras y {38} caracteres\")\n",
    "\n",
    "\n",
    "frase = \"a\"\n",
    "\n",
    "# funcion \n",
    "contar_palabras_y_caracteres(frase)\n",
    "\n",
    "\n",
    "b = list(\"Me gusta resolver problemas con código\")\n",
    "print(\"\\n Lista con String: \\n\" , b)\n",
    "\n",
    "# cuento caracteres y palabras \n",
    "\n",
    "def contar_palabras_y_caracteres(frase):\n",
    "    palabras = frase.split()\n",
    "    num_palabras = len(palabras)\n",
    "    num_caracteres = len(frase)\n",
    "\n",
    "    #resultado\n",
    "    print(f\"la frase: \\\"{frase}\\\"\")\n",
    "    print(f\"Tiene {6} palabras y {38} caracteres\")   \n",
    "\n",
    "frase = \"b\"   \n",
    "\n",
    "#funcion\n",
    "\n",
    "contar_palabras_y_caracteres(frase)\n",
    "\n",
    "          \n",
    "c = list(\"Las listas y los bucles son muy útiles\")\n",
    "print(\"\\n Lista con String: \\n\" , c)\n",
    "\n",
    "#caracteresy palabras \n",
    "\n",
    "def contar_palabras_y_caracteres(frase):\n",
    "    palabras = frase.split()\n",
    "    num_palabras = len(palabras)\n",
    "    num_caracteres = len(frase)\n",
    "\n",
    "print(f\"la frase: \\\"{frase}\\\"\")\n",
    "print(f\"tiene {6} palabras y {38} caracteres\")\n",
    "\n",
    "frase = \"c\"\n",
    "\n",
    "contar_palabras_y_caracteres(frase)"
   ]
  },
  {
   "cell_type": "code",
   "execution_count": 42,
   "metadata": {},
   "outputs": [
    {
     "name": "stdout",
     "output_type": "stream",
     "text": [
      "Los coeficientes que satisfacen la ecuación son: a = -2, b = 10, c = 0\n"
     ]
    }
   ],
   "source": [
    "#2\n",
    "# Función para calcular f(x) = aX^2 + bX + c\n",
    "def f(x, a, b, c):\n",
    "    return a * x**2 + b * x + c\n",
    "\n",
    "# Función para encontrar los coeficientes a, b, y c usando prueba y error\n",
    "def encontrar_coeficientes():\n",
    "    # Lista de puntos (x, y)\n",
    "    puntos = [(0, 0), (1, 8), (2, 12), (3, 12), (5, 0)]\n",
    "    \n",
    "    # Iterar posibles valores de a, b y c (en el rango de -10 a 10)\n",
    "    for a in range(-10, 11):\n",
    "        for b in range(-10, 11):\n",
    "            for c in range(-10, 11):\n",
    "                es_valido = True  # Suponemos que es válido hasta demostrar lo contrario\n",
    "                \n",
    "                # Verificar que la función f(x) pase por todos los puntos\n",
    "                for x, y in puntos:\n",
    "                    if f(x, a, b, c) != y:\n",
    "                        es_valido = False  # Si algún punto no coincide, no es válido\n",
    "                        break\n",
    "                \n",
    "                # Si es válido para todos los puntos, devolver los coeficientes\n",
    "                if es_valido:\n",
    "                    return a, b, c\n",
    "    \n",
    "    # Si no se encuentra ninguna combinación válida\n",
    "    return None\n",
    "\n",
    "# Llamar a la función para encontrar los coeficientes\n",
    "coeficientes = encontrar_coeficientes()\n",
    "\n",
    "# Mostrar los coeficientes si se encuentran\n",
    "if coeficientes:\n",
    "    a, b, c = coeficientes\n",
    "    print(f\"Los coeficientes que satisfacen la ecuación son: a = {a}, b = {b}, c = {c}\")\n",
    "else:\n",
    "    print(\"No se encontraron coeficientes que hagan que la ecuación pase por los puntos dados.\")"
   ]
  }
 ],
 "metadata": {
  "kernelspec": {
   "display_name": "Python 3",
   "language": "python",
   "name": "python3"
  },
  "language_info": {
   "codemirror_mode": {
    "name": "ipython",
    "version": 3
   },
   "file_extension": ".py",
   "mimetype": "text/x-python",
   "name": "python",
   "nbconvert_exporter": "python",
   "pygments_lexer": "ipython3",
   "version": "3.12.5"
  }
 },
 "nbformat": 4,
 "nbformat_minor": 2
}
